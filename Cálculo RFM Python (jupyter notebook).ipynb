{
 "cells": [
  {
   "cell_type": "code",
   "execution_count": 1,
   "id": "2a45b607",
   "metadata": {},
   "outputs": [],
   "source": [
    "import pandas as pd\n",
    "import numpy as np\n",
    "import pyodbc\n",
    "pd.set_option('display.max_columns', None)\n",
    "pd.set_option(\"display.max_rows\", None)"
   ]
  },
  {
   "cell_type": "code",
   "execution_count": 2,
   "id": "e52ca14d",
   "metadata": {},
   "outputs": [
    {
     "name": "stdout",
     "output_type": "stream",
     "text": [
      "········\n"
     ]
    }
   ],
   "source": [
    "import getpass\n",
    "#conexão com o dataWarehouse\n",
    "server = 'localhost' \n",
    "database = 'dataWarehouse2' \n",
    "username = 'sapiens' \n",
    "password =  getpass.getpass()\n",
    "cnxn = pyodbc.connect('DRIVER={SQL Server};SERVER='+server+';DATABASE='+database+';UID='+username+';PWD='+ password)\n",
    "cursor = cnxn.cursor()\n"
   ]
  },
  {
   "cell_type": "code",
   "execution_count": 50,
   "id": "dd3043d1",
   "metadata": {},
   "outputs": [],
   "source": [
    "#carrega a dim_cliente\n",
    "query = \"select cod_cliente,  MAX(data_venda) as LastInvoiceDate, MIN(data_venda) FirstInvoiceDate,  count(distinct numero_nfv) as Frequency, SUM(valor_fat_total_produto_nfv) as MonetaryValue from fato_venda inner join dim_nfv on fato_venda.SK_nfv = dim_nfv.SK_nfv where cod_filial in (2,3) group by cod_cliente;\"\n",
    "df = pd.read_sql(query, cnxn)\n",
    "#dim_cliente = pd.read_sql(queryDC, cnxn)\n"
   ]
  },
  {
   "cell_type": "code",
   "execution_count": 51,
   "id": "2b2896c3",
   "metadata": {},
   "outputs": [],
   "source": [
    "customer_data = df.rename(columns={\"cod_cliente\":\"CustomerID\"})"
   ]
  },
  {
   "cell_type": "code",
   "execution_count": 52,
   "id": "8e5bbb27",
   "metadata": {},
   "outputs": [
    {
     "data": {
      "text/plain": [
       "CustomerID                   int64\n",
       "LastInvoiceDate     datetime64[ns]\n",
       "FirstInvoiceDate    datetime64[ns]\n",
       "Frequency                    int64\n",
       "MonetaryValue              float64\n",
       "dtype: object"
      ]
     },
     "execution_count": 52,
     "metadata": {},
     "output_type": "execute_result"
    }
   ],
   "source": [
    "customer_data.LastInvoiceDate = pd.to_datetime(customer_data.LastInvoiceDate)\n",
    "customer_data.FirstInvoiceDate = pd.to_datetime(customer_data.FirstInvoiceDate)\n",
    "customer_data.dtypes"
   ]
  },
  {
   "cell_type": "code",
   "execution_count": 53,
   "id": "28aca13e",
   "metadata": {},
   "outputs": [],
   "source": [
    "from datetime import timedelta\n",
    "snapshot_date = customer_data[\"LastInvoiceDate\"].max() + timedelta(days=1)\n",
    "customer_data[\"Recency\"] = (snapshot_date - customer_data['LastInvoiceDate']).dt.days"
   ]
  },
  {
   "cell_type": "code",
   "execution_count": 54,
   "id": "6452e247",
   "metadata": {},
   "outputs": [],
   "source": [
    "customer_data[\"RecencyScore\"] = pd.cut(customer_data[\"Recency\"], \n",
    "                                       bins=[-1, \n",
    "                                         np.percentile(customer_data[\"Recency\"], 25), \n",
    "                                             np.percentile(customer_data[\"Recency\"], 50), \n",
    "                                             np.percentile(customer_data[\"Recency\"], 75), \n",
    "                                             customer_data[\"Recency\"].max()], \n",
    "                                       labels=[4, 3, 2, 1]).astype(\"int\")\n",
    "customer_data[\"FrequencyScore\"] = pd.cut(customer_data[\"Frequency\"], \n",
    "                                       bins=[-1, \n",
    "                                         np.percentile(customer_data[\"Frequency\"], 25), \n",
    "                                             np.percentile(customer_data[\"Frequency\"], 50), \n",
    "                                             np.percentile(customer_data[\"Frequency\"], 75), \n",
    "                                             customer_data[\"Frequency\"].max()], \n",
    "                                       labels=[1, 2, 3, 4]).astype(\"int\")\n",
    "customer_data[\"MonetaryScore\"] = pd.cut(customer_data[\"MonetaryValue\"], \n",
    "                                       bins=[-1, \n",
    "                                         np.percentile(customer_data[\"MonetaryValue\"], 25), \n",
    "                                             np.percentile(customer_data[\"MonetaryValue\"], 50), \n",
    "                                             np.percentile(customer_data[\"MonetaryValue\"], 75), \n",
    "                                             customer_data[\"MonetaryValue\"].max()], \n",
    "                                       labels=[1, 2, 3, 4]).astype(\"int\")\n"
   ]
  },
  {
   "cell_type": "code",
   "execution_count": 55,
   "id": "79ecd69a",
   "metadata": {},
   "outputs": [],
   "source": [
    "customer_data[\"RFM\"] = customer_data[\"RecencyScore\"] + customer_data[\"FrequencyScore\"] + customer_data[\"MonetaryScore\"]"
   ]
  },
  {
   "cell_type": "code",
   "execution_count": 56,
   "id": "727bbfc8",
   "metadata": {},
   "outputs": [
    {
     "data": {
      "text/html": [
       "<div>\n",
       "<style scoped>\n",
       "    .dataframe tbody tr th:only-of-type {\n",
       "        vertical-align: middle;\n",
       "    }\n",
       "\n",
       "    .dataframe tbody tr th {\n",
       "        vertical-align: top;\n",
       "    }\n",
       "\n",
       "    .dataframe thead th {\n",
       "        text-align: right;\n",
       "    }\n",
       "</style>\n",
       "<table border=\"1\" class=\"dataframe\">\n",
       "  <thead>\n",
       "    <tr style=\"text-align: right;\">\n",
       "      <th></th>\n",
       "      <th>CustomerID</th>\n",
       "      <th>LastInvoiceDate</th>\n",
       "      <th>FirstInvoiceDate</th>\n",
       "      <th>Frequency</th>\n",
       "      <th>MonetaryValue</th>\n",
       "      <th>Recency</th>\n",
       "      <th>RecencyScore</th>\n",
       "      <th>FrequencyScore</th>\n",
       "      <th>MonetaryScore</th>\n",
       "      <th>RFM</th>\n",
       "    </tr>\n",
       "  </thead>\n",
       "  <tbody>\n",
       "    <tr>\n",
       "      <th>0</th>\n",
       "      <td>15320</td>\n",
       "      <td>2018-10-26</td>\n",
       "      <td>2018-10-26</td>\n",
       "      <td>1</td>\n",
       "      <td>950.0</td>\n",
       "      <td>1108</td>\n",
       "      <td>3</td>\n",
       "      <td>1</td>\n",
       "      <td>2</td>\n",
       "      <td>6</td>\n",
       "    </tr>\n",
       "    <tr>\n",
       "      <th>1</th>\n",
       "      <td>6830</td>\n",
       "      <td>2021-09-24</td>\n",
       "      <td>2018-11-26</td>\n",
       "      <td>20</td>\n",
       "      <td>419439.0</td>\n",
       "      <td>44</td>\n",
       "      <td>4</td>\n",
       "      <td>4</td>\n",
       "      <td>4</td>\n",
       "      <td>12</td>\n",
       "    </tr>\n",
       "    <tr>\n",
       "      <th>2</th>\n",
       "      <td>15011</td>\n",
       "      <td>2021-09-24</td>\n",
       "      <td>2018-06-27</td>\n",
       "      <td>11</td>\n",
       "      <td>23892.2</td>\n",
       "      <td>44</td>\n",
       "      <td>4</td>\n",
       "      <td>3</td>\n",
       "      <td>4</td>\n",
       "      <td>11</td>\n",
       "    </tr>\n",
       "    <tr>\n",
       "      <th>3</th>\n",
       "      <td>15343</td>\n",
       "      <td>2018-11-09</td>\n",
       "      <td>2018-11-09</td>\n",
       "      <td>1</td>\n",
       "      <td>530.0</td>\n",
       "      <td>1094</td>\n",
       "      <td>3</td>\n",
       "      <td>1</td>\n",
       "      <td>1</td>\n",
       "      <td>5</td>\n",
       "    </tr>\n",
       "    <tr>\n",
       "      <th>4</th>\n",
       "      <td>8064</td>\n",
       "      <td>2014-01-18</td>\n",
       "      <td>2013-11-29</td>\n",
       "      <td>2</td>\n",
       "      <td>1198.1</td>\n",
       "      <td>2850</td>\n",
       "      <td>1</td>\n",
       "      <td>1</td>\n",
       "      <td>2</td>\n",
       "      <td>4</td>\n",
       "    </tr>\n",
       "  </tbody>\n",
       "</table>\n",
       "</div>"
      ],
      "text/plain": [
       "   CustomerID LastInvoiceDate FirstInvoiceDate  Frequency  MonetaryValue  \\\n",
       "0       15320      2018-10-26       2018-10-26          1          950.0   \n",
       "1        6830      2021-09-24       2018-11-26         20       419439.0   \n",
       "2       15011      2021-09-24       2018-06-27         11        23892.2   \n",
       "3       15343      2018-11-09       2018-11-09          1          530.0   \n",
       "4        8064      2014-01-18       2013-11-29          2         1198.1   \n",
       "\n",
       "   Recency  RecencyScore  FrequencyScore  MonetaryScore  RFM  \n",
       "0     1108             3               1              2    6  \n",
       "1       44             4               4              4   12  \n",
       "2       44             4               3              4   11  \n",
       "3     1094             3               1              1    5  \n",
       "4     2850             1               1              2    4  "
      ]
     },
     "execution_count": 56,
     "metadata": {},
     "output_type": "execute_result"
    }
   ],
   "source": [
    "customer_data.head()"
   ]
  },
  {
   "cell_type": "code",
   "execution_count": 58,
   "id": "7105bd19",
   "metadata": {},
   "outputs": [],
   "source": [
    "customer_data[\"Lifetime\"] = (snapshot_date - customer_data['FirstInvoiceDate']).dt.days"
   ]
  },
  {
   "cell_type": "code",
   "execution_count": 67,
   "id": "88a6a16b",
   "metadata": {},
   "outputs": [
    {
     "data": {
      "text/plain": [
       "False    4480\n",
       "Name: RelFrequency, dtype: int64"
      ]
     },
     "execution_count": 67,
     "metadata": {},
     "output_type": "execute_result"
    }
   ],
   "source": [
    "customer_data[\"RelFrequency\"] = customer_data[\"Frequency\"] / customer_data[\"Lifetime\"]\n",
    "customer_data[\"RelFrequency\"].apply(lambda x: np.isinf(x)).value_counts()"
   ]
  },
  {
   "cell_type": "code",
   "execution_count": 65,
   "id": "4887579c",
   "metadata": {},
   "outputs": [
    {
     "data": {
      "text/plain": [
       "<AxesSubplot:>"
      ]
     },
     "execution_count": 65,
     "metadata": {},
     "output_type": "execute_result"
    },
    {
     "data": {
      "image/png": "[encoded data removed]",
      "text/plain": [
       "<Figure size 432x288 with 1 Axes>"
      ]
     },
     "metadata": {
      "needs_background": "light"
     },
     "output_type": "display_data"
    }
   ],
   "source": [
    "customer_data[\"RelRecency\"] = 1 - customer_data[\"Recency\"] / customer_data[\"Lifetime\"]\n",
    "customer_data[\"RelRecency\"].hist()\n"
   ]
  },
  {
   "cell_type": "code",
   "execution_count": 42,
   "id": "de06ada0",
   "metadata": {},
   "outputs": [],
   "source": [
    "customer_data[\"FrequencyScore\"] = pd.cut(customer_data[\"RelFrequency\"], \n",
    "                                       bins=[-1, \n",
    "                                             np.percentile(customer_data[\"RelFrequency\"], 25), \n",
    "                                             np.percentile(customer_data[\"RelFrequency\"], 50), \n",
    "                                             np.percentile(customer_data[\"RelFrequency\"], 75), \n",
    "                                             customer_data[\"RelFrequency\"].max()], \n",
    "                                       labels=[1, 2, 3, 4]).astype(\"int\")"
   ]
  },
  {
   "cell_type": "code",
   "execution_count": 60,
   "id": "b0f4de82",
   "metadata": {},
   "outputs": [],
   "source": [
    "import matplotlib.pyplot as plt"
   ]
  },
  {
   "cell_type": "code",
   "execution_count": 61,
   "id": "fc73e3fd",
   "metadata": {},
   "outputs": [
    {
     "data": {
      "text/plain": [
       "Text(0.5, 1.0, 'Monthly Customer Intakes')"
      ]
     },
     "execution_count": 61,
     "metadata": {},
     "output_type": "execute_result"
    },
    {
     "data": {
      "image/png": "[encoded data removed]",
      "text/plain": [
       "<Figure size 432x288 with 1 Axes>"
      ]
     },
     "metadata": {
      "needs_background": "light"
     },
     "output_type": "display_data"
    }
   ],
   "source": [
    "customer_data[\"FirstInvoiceMonth\"] = customer_data[\"FirstInvoiceDate\"].apply(lambda x: x.replace(day=1))\n",
    "customer_data.groupby([\"FirstInvoiceMonth\"]).count()[\"FirstInvoiceDate\"].plot(kind=\"bar\")\n",
    "plt.title(\"Monthly Customer Intakes\")"
   ]
  },
  {
   "cell_type": "code",
   "execution_count": 62,
   "id": "773decc6",
   "metadata": {},
   "outputs": [
    {
     "data": {
      "text/plain": [
       "<AxesSubplot:>"
      ]
     },
     "execution_count": 62,
     "metadata": {},
     "output_type": "execute_result"
    },
    {
     "data": {
      "image/png": "[encoded data removed]",
      "text/plain": [
       "<Figure size 432x288 with 1 Axes>"
      ]
     },
     "metadata": {
      "needs_background": "light"
     },
     "output_type": "display_data"
    }
   ],
   "source": [
    "customer_data[\"Recency\"].hist()\n"
   ]
  },
  {
   "cell_type": "code",
   "execution_count": 63,
   "id": "9be7d38c",
   "metadata": {},
   "outputs": [
    {
     "data": {
      "text/plain": [
       "count    4480.000000\n",
       "mean     2325.437054\n",
       "std      1116.999037\n",
       "min         1.000000\n",
       "25%      1321.000000\n",
       "50%      2692.000000\n",
       "75%      3425.000000\n",
       "max      3596.000000\n",
       "Name: Lifetime, dtype: float64"
      ]
     },
     "execution_count": 63,
     "metadata": {},
     "output_type": "execute_result"
    }
   ],
   "source": [
    "customer_data[\"Lifetime\"].describe()"
   ]
  },
  {
   "cell_type": "code",
   "execution_count": 66,
   "id": "ba798540",
   "metadata": {},
   "outputs": [
    {
     "data": {
      "text/plain": [
       "count    4480.000000\n",
       "mean        0.380765\n",
       "std         0.379399\n",
       "min         0.000000\n",
       "25%         0.011798\n",
       "50%         0.237072\n",
       "75%         0.758592\n",
       "max         0.999721\n",
       "Name: RelRecency, dtype: float64"
      ]
     },
     "execution_count": 66,
     "metadata": {},
     "output_type": "execute_result"
    }
   ],
   "source": [
    "customer_data[\"RelRecency\"].describe()"
   ]
  },
  {
   "cell_type": "code",
   "execution_count": 70,
   "id": "4928bccb",
   "metadata": {},
   "outputs": [
    {
     "data": {
      "text/plain": [
       "count    4480.000000\n",
       "mean        0.008639\n",
       "std         0.022667\n",
       "min         0.000279\n",
       "25%         0.001006\n",
       "50%         0.003190\n",
       "75%         0.010448\n",
       "max         1.000000\n",
       "Name: RelFrequency, dtype: float64"
      ]
     },
     "execution_count": 70,
     "metadata": {},
     "output_type": "execute_result"
    }
   ],
   "source": [
    "customer_data[\"RelFrequency\"].describe()"
   ]
  },
  {
   "cell_type": "code",
   "execution_count": 71,
   "id": "8dd0fbe5",
   "metadata": {},
   "outputs": [
    {
     "data": {
      "text/plain": [
       "<AxesSubplot:>"
      ]
     },
     "execution_count": 71,
     "metadata": {},
     "output_type": "execute_result"
    },
    {
     "data": {
      "image/png": "[encoded data removed]",
      "text/plain": [
       "<Figure size 432x288 with 1 Axes>"
      ]
     },
     "metadata": {
      "needs_background": "light"
     },
     "output_type": "display_data"
    }
   ],
   "source": [
    "customer_data[\"MonetaryValue\"].hist()"
   ]
  },
  {
   "cell_type": "code",
   "execution_count": 82,
   "id": "7c28aed6",
   "metadata": {},
   "outputs": [
    {
     "data": {
      "text/plain": [
       "747890.2779999939"
      ]
     },
     "execution_count": 82,
     "metadata": {},
     "output_type": "execute_result"
    }
   ],
   "source": [
    "np.percentile(customer_data[\"MonetaryValue\"], 99)"
   ]
  },
  {
   "cell_type": "code",
   "execution_count": 72,
   "id": "fc893fef",
   "metadata": {},
   "outputs": [
    {
     "data": {
      "text/plain": [
       "4480"
      ]
     },
     "execution_count": 72,
     "metadata": {},
     "output_type": "execute_result"
    }
   ],
   "source": [
    "len(customer_data)"
   ]
  },
  {
   "cell_type": "code",
   "execution_count": 83,
   "id": "256159aa",
   "metadata": {
    "scrolled": true
   },
   "outputs": [
    {
     "name": "stderr",
     "output_type": "stream",
     "text": [
      "<ipython-input-83-b3bc704e4760>:1: SettingWithCopyWarning: \n",
      "A value is trying to be set on a copy of a slice from a DataFrame.\n",
      "Try using .loc[row_indexer,col_indexer] = value instead\n",
      "\n",
      "See the caveats in the documentation: https://pandas.pydata.org/pandas-docs/stable/user_guide/indexing.html#returning-a-view-versus-a-copy\n",
      "  customer_data[\"RelMonetaryValue\"] = customer_data[\"MonetaryValue\"] / customer_data[\"Lifetime\"]\n"
     ]
    },
    {
     "data": {
      "text/plain": [
       "<AxesSubplot:>"
      ]
     },
     "execution_count": 83,
     "metadata": {},
     "output_type": "execute_result"
    },
    {
     "data": {
      "image/png": "[encoded data removed]",
      "text/plain": [
       "<Figure size 432x288 with 1 Axes>"
      ]
     },
     "metadata": {
      "needs_background": "light"
     },
     "output_type": "display_data"
    }
   ],
   "source": [
    "customer_data[\"RelMonetaryValue\"] = customer_data[\"MonetaryValue\"] / customer_data[\"Lifetime\"]\n",
    "customer_data[\"RelMonetaryValue\"].hist()"
   ]
  },
  {
   "cell_type": "code",
   "execution_count": 74,
   "id": "916c5605",
   "metadata": {},
   "outputs": [
    {
     "data": {
      "text/plain": [
       "count     4480.000000\n",
       "mean        45.926421\n",
       "std        324.466405\n",
       "min          0.000000\n",
       "25%          0.498829\n",
       "50%          2.470889\n",
       "75%         11.647798\n",
       "max      12608.151681\n",
       "Name: RelMonetaryValue, dtype: float64"
      ]
     },
     "execution_count": 74,
     "metadata": {},
     "output_type": "execute_result"
    }
   ],
   "source": [
    "customer_data[\"RelMonetaryValue\"].describe()"
   ]
  },
  {
   "cell_type": "code",
   "execution_count": 81,
   "id": "6918bc9c",
   "metadata": {},
   "outputs": [
    {
     "data": {
      "text/plain": [
       "0.2408117249154453"
      ]
     },
     "execution_count": 81,
     "metadata": {},
     "output_type": "execute_result"
    }
   ],
   "source": [
    "sum(customer_data[\"RelRecency\"]==0) / len(customer_data) # 23,8% com uma transacao"
   ]
  },
  {
   "cell_type": "code",
   "execution_count": 80,
   "id": "00cf527e",
   "metadata": {},
   "outputs": [],
   "source": [
    "customer_data = customer_data[customer_data[\"MonetaryValue\"]<=np.percentile(customer_data[\"MonetaryValue\"], 99)]"
   ]
  },
  {
   "cell_type": "code",
   "execution_count": 75,
   "id": "74fc8b98",
   "metadata": {},
   "outputs": [
    {
     "data": {
      "text/plain": [
       "5     558\n",
       "12    510\n",
       "6     507\n",
       "7     464\n",
       "8     449\n",
       "3     438\n",
       "4     433\n",
       "9     401\n",
       "10    399\n",
       "11    321\n",
       "Name: RFM, dtype: int64"
      ]
     },
     "execution_count": 75,
     "metadata": {},
     "output_type": "execute_result"
    }
   ],
   "source": [
    "customer_data[\"RFM\"].value_counts()"
   ]
  },
  {
   "cell_type": "code",
   "execution_count": 76,
   "id": "86cd9a8a",
   "metadata": {},
   "outputs": [
    {
     "data": {
      "text/html": [
       "<div>\n",
       "<style scoped>\n",
       "    .dataframe tbody tr th:only-of-type {\n",
       "        vertical-align: middle;\n",
       "    }\n",
       "\n",
       "    .dataframe tbody tr th {\n",
       "        vertical-align: top;\n",
       "    }\n",
       "\n",
       "    .dataframe thead tr th {\n",
       "        text-align: left;\n",
       "    }\n",
       "\n",
       "    .dataframe thead tr:last-of-type th {\n",
       "        text-align: right;\n",
       "    }\n",
       "</style>\n",
       "<table border=\"1\" class=\"dataframe\">\n",
       "  <thead>\n",
       "    <tr>\n",
       "      <th></th>\n",
       "      <th colspan=\"3\" halign=\"left\">Frequency</th>\n",
       "      <th colspan=\"4\" halign=\"left\">Lifetime</th>\n",
       "      <th colspan=\"3\" halign=\"left\">MonetaryValue</th>\n",
       "      <th colspan=\"3\" halign=\"left\">Recency</th>\n",
       "    </tr>\n",
       "    <tr>\n",
       "      <th></th>\n",
       "      <th>amax</th>\n",
       "      <th>amin</th>\n",
       "      <th>median</th>\n",
       "      <th>amax</th>\n",
       "      <th>amin</th>\n",
       "      <th>count</th>\n",
       "      <th>median</th>\n",
       "      <th>amax</th>\n",
       "      <th>amin</th>\n",
       "      <th>median</th>\n",
       "      <th>amax</th>\n",
       "      <th>amin</th>\n",
       "      <th>median</th>\n",
       "    </tr>\n",
       "    <tr>\n",
       "      <th>RFM</th>\n",
       "      <th></th>\n",
       "      <th></th>\n",
       "      <th></th>\n",
       "      <th></th>\n",
       "      <th></th>\n",
       "      <th></th>\n",
       "      <th></th>\n",
       "      <th></th>\n",
       "      <th></th>\n",
       "      <th></th>\n",
       "      <th></th>\n",
       "      <th></th>\n",
       "      <th></th>\n",
       "    </tr>\n",
       "  </thead>\n",
       "  <tbody>\n",
       "    <tr>\n",
       "      <th>3</th>\n",
       "      <td>2</td>\n",
       "      <td>1</td>\n",
       "      <td>1</td>\n",
       "      <td>3589</td>\n",
       "      <td>2472</td>\n",
       "      <td>438</td>\n",
       "      <td>3011</td>\n",
       "      <td>939.60</td>\n",
       "      <td>26.0</td>\n",
       "      <td>350.78</td>\n",
       "      <td>3589.0</td>\n",
       "      <td>2472.0</td>\n",
       "      <td>2997.0</td>\n",
       "    </tr>\n",
       "    <tr>\n",
       "      <th>4</th>\n",
       "      <td>5</td>\n",
       "      <td>1</td>\n",
       "      <td>1</td>\n",
       "      <td>3586</td>\n",
       "      <td>1278</td>\n",
       "      <td>433</td>\n",
       "      <td>2263</td>\n",
       "      <td>3523.00</td>\n",
       "      <td>86.0</td>\n",
       "      <td>621.00</td>\n",
       "      <td>3575.0</td>\n",
       "      <td>1278.0</td>\n",
       "      <td>2235.0</td>\n",
       "    </tr>\n",
       "    <tr>\n",
       "      <th>5</th>\n",
       "      <td>9</td>\n",
       "      <td>1</td>\n",
       "      <td>2</td>\n",
       "      <td>3595</td>\n",
       "      <td>198</td>\n",
       "      <td>558</td>\n",
       "      <td>2005</td>\n",
       "      <td>16750.00</td>\n",
       "      <td>0.0</td>\n",
       "      <td>1022.25</td>\n",
       "      <td>3562.0</td>\n",
       "      <td>198.0</td>\n",
       "      <td>1797.0</td>\n",
       "    </tr>\n",
       "    <tr>\n",
       "      <th>6</th>\n",
       "      <td>16</td>\n",
       "      <td>1</td>\n",
       "      <td>3</td>\n",
       "      <td>3595</td>\n",
       "      <td>1</td>\n",
       "      <td>507</td>\n",
       "      <td>1962</td>\n",
       "      <td>196000.00</td>\n",
       "      <td>124.0</td>\n",
       "      <td>1812.50</td>\n",
       "      <td>3539.0</td>\n",
       "      <td>1.0</td>\n",
       "      <td>1584.0</td>\n",
       "    </tr>\n",
       "    <tr>\n",
       "      <th>7</th>\n",
       "      <td>17</td>\n",
       "      <td>1</td>\n",
       "      <td>4</td>\n",
       "      <td>3595</td>\n",
       "      <td>2</td>\n",
       "      <td>464</td>\n",
       "      <td>2215</td>\n",
       "      <td>207000.00</td>\n",
       "      <td>509.5</td>\n",
       "      <td>3379.00</td>\n",
       "      <td>3463.0</td>\n",
       "      <td>1.0</td>\n",
       "      <td>1350.5</td>\n",
       "    </tr>\n",
       "    <tr>\n",
       "      <th>8</th>\n",
       "      <td>48</td>\n",
       "      <td>1</td>\n",
       "      <td>7</td>\n",
       "      <td>3595</td>\n",
       "      <td>9</td>\n",
       "      <td>449</td>\n",
       "      <td>2372</td>\n",
       "      <td>560973.14</td>\n",
       "      <td>956.5</td>\n",
       "      <td>5958.00</td>\n",
       "      <td>3418.0</td>\n",
       "      <td>1.0</td>\n",
       "      <td>1255.0</td>\n",
       "    </tr>\n",
       "    <tr>\n",
       "      <th>9</th>\n",
       "      <td>75</td>\n",
       "      <td>1</td>\n",
       "      <td>11</td>\n",
       "      <td>3595</td>\n",
       "      <td>9</td>\n",
       "      <td>401</td>\n",
       "      <td>2543</td>\n",
       "      <td>660078.00</td>\n",
       "      <td>1107.2</td>\n",
       "      <td>10167.50</td>\n",
       "      <td>3182.0</td>\n",
       "      <td>2.0</td>\n",
       "      <td>905.0</td>\n",
       "    </tr>\n",
       "    <tr>\n",
       "      <th>10</th>\n",
       "      <td>184</td>\n",
       "      <td>3</td>\n",
       "      <td>20</td>\n",
       "      <td>3595</td>\n",
       "      <td>51</td>\n",
       "      <td>399</td>\n",
       "      <td>2935</td>\n",
       "      <td>8448005.85</td>\n",
       "      <td>3704.3</td>\n",
       "      <td>21405.50</td>\n",
       "      <td>2411.0</td>\n",
       "      <td>1.0</td>\n",
       "      <td>786.0</td>\n",
       "    </tr>\n",
       "    <tr>\n",
       "      <th>11</th>\n",
       "      <td>187</td>\n",
       "      <td>6</td>\n",
       "      <td>31</td>\n",
       "      <td>3596</td>\n",
       "      <td>107</td>\n",
       "      <td>321</td>\n",
       "      <td>2813</td>\n",
       "      <td>18060531.50</td>\n",
       "      <td>4695.6</td>\n",
       "      <td>39768.60</td>\n",
       "      <td>1250.0</td>\n",
       "      <td>1.0</td>\n",
       "      <td>179.0</td>\n",
       "    </tr>\n",
       "    <tr>\n",
       "      <th>12</th>\n",
       "      <td>486</td>\n",
       "      <td>19</td>\n",
       "      <td>63</td>\n",
       "      <td>3596</td>\n",
       "      <td>373</td>\n",
       "      <td>510</td>\n",
       "      <td>3013</td>\n",
       "      <td>29667692.64</td>\n",
       "      <td>19932.5</td>\n",
       "      <td>99318.94</td>\n",
       "      <td>191.0</td>\n",
       "      <td>1.0</td>\n",
       "      <td>30.0</td>\n",
       "    </tr>\n",
       "  </tbody>\n",
       "</table>\n",
       "</div>"
      ],
      "text/plain": [
       "    Frequency             Lifetime                    MonetaryValue           \\\n",
       "         amax amin median     amax  amin count median          amax     amin   \n",
       "RFM                                                                            \n",
       "3           2    1      1     3589  2472   438   3011        939.60     26.0   \n",
       "4           5    1      1     3586  1278   433   2263       3523.00     86.0   \n",
       "5           9    1      2     3595   198   558   2005      16750.00      0.0   \n",
       "6          16    1      3     3595     1   507   1962     196000.00    124.0   \n",
       "7          17    1      4     3595     2   464   2215     207000.00    509.5   \n",
       "8          48    1      7     3595     9   449   2372     560973.14    956.5   \n",
       "9          75    1     11     3595     9   401   2543     660078.00   1107.2   \n",
       "10        184    3     20     3595    51   399   2935    8448005.85   3704.3   \n",
       "11        187    6     31     3596   107   321   2813   18060531.50   4695.6   \n",
       "12        486   19     63     3596   373   510   3013   29667692.64  19932.5   \n",
       "\n",
       "              Recency                  \n",
       "       median    amax    amin  median  \n",
       "RFM                                    \n",
       "3      350.78  3589.0  2472.0  2997.0  \n",
       "4      621.00  3575.0  1278.0  2235.0  \n",
       "5     1022.25  3562.0   198.0  1797.0  \n",
       "6     1812.50  3539.0     1.0  1584.0  \n",
       "7     3379.00  3463.0     1.0  1350.5  \n",
       "8     5958.00  3418.0     1.0  1255.0  \n",
       "9    10167.50  3182.0     2.0   905.0  \n",
       "10   21405.50  2411.0     1.0   786.0  \n",
       "11   39768.60  1250.0     1.0   179.0  \n",
       "12   99318.94   191.0     1.0    30.0  "
      ]
     },
     "execution_count": 76,
     "metadata": {},
     "output_type": "execute_result"
    }
   ],
   "source": [
    "rfm_abs = pd.DataFrame(customer_data.pivot_table(index=[\"RFM\"], \n",
    "                                    values=[\"Recency\", \"Frequency\", \"MonetaryValue\", \"Lifetime\"], \n",
    "                                    aggfunc={\"Recency\": [np.min, np.median, np.max], \n",
    "                                             \"Frequency\": [np.min, np.median, np.max], \n",
    "                                             \"MonetaryValue\": [np.min, np.median, np.max], \n",
    "                                             \"Lifetime\": [np.min, np.median, np.max, \"count\"]}))\n",
    "rfm_abs"
   ]
  },
  {
   "cell_type": "code",
   "execution_count": 77,
   "id": "8053a98c",
   "metadata": {},
   "outputs": [
    {
     "data": {
      "text/plain": [
       "3    1121\n",
       "1    1120\n",
       "2    1120\n",
       "4    1119\n",
       "Name: RecencyScore, dtype: int64"
      ]
     },
     "execution_count": 77,
     "metadata": {},
     "output_type": "execute_result"
    }
   ],
   "source": [
    "customer_data[\"RecencyScore\"] = pd.cut(customer_data[\"RelRecency\"], \n",
    "                                       bins=[-1, \n",
    "                                             np.percentile(customer_data[\"RelRecency\"], 25), \n",
    "                                             np.percentile(customer_data[\"RelRecency\"], 50), \n",
    "                                             np.percentile(customer_data[\"RelRecency\"], 75), \n",
    "                                             customer_data[\"RelRecency\"].max()], \n",
    "                                       labels=[1, 2, 3, 4]).astype(\"int\")\n",
    "customer_data[\"RecencyScore\"].value_counts()"
   ]
  },
  {
   "cell_type": "code",
   "execution_count": 78,
   "id": "5e2b84a8",
   "metadata": {},
   "outputs": [
    {
     "data": {
      "text/plain": [
       "4    1120\n",
       "1    1120\n",
       "2    1120\n",
       "3    1120\n",
       "Name: FrequencyScore, dtype: int64"
      ]
     },
     "execution_count": 78,
     "metadata": {},
     "output_type": "execute_result"
    }
   ],
   "source": [
    "customer_data[\"FrequencyScore\"] = pd.cut(customer_data[\"RelFrequency\"], \n",
    "                                       bins=[-1, \n",
    "                                             np.percentile(customer_data[\"RelFrequency\"], 25), \n",
    "                                             np.percentile(customer_data[\"RelFrequency\"], 50), \n",
    "                                             np.percentile(customer_data[\"RelFrequency\"], 75), \n",
    "                                             customer_data[\"RelFrequency\"].max()], \n",
    "                                       labels=[1, 2, 3, 4]).astype(\"int\")\n",
    "customer_data[\"FrequencyScore\"].value_counts()"
   ]
  },
  {
   "cell_type": "code",
   "execution_count": 79,
   "id": "3a71536e",
   "metadata": {},
   "outputs": [
    {
     "data": {
      "text/plain": [
       "4    1120\n",
       "1    1120\n",
       "2    1120\n",
       "3    1120\n",
       "Name: MonetaryScore, dtype: int64"
      ]
     },
     "execution_count": 79,
     "metadata": {},
     "output_type": "execute_result"
    }
   ],
   "source": [
    "customer_data[\"MonetaryScore\"] = pd.cut(customer_data[\"RelMonetaryValue\"], \n",
    "                                       bins=[customer_data[\"RelMonetaryValue\"].min()-1, \n",
    "                                             np.percentile(customer_data[\"RelMonetaryValue\"], 25),\n",
    "                                             np.percentile(customer_data[\"RelMonetaryValue\"], 50), \n",
    "                                             np.percentile(customer_data[\"RelMonetaryValue\"], 75), \n",
    "                                             customer_data[\"RelMonetaryValue\"].max()], \n",
    "                                       labels=[1, 2, 3, 4]).astype(\"int\")\n",
    "customer_data[\"MonetaryScore\"].value_counts()"
   ]
  },
  {
   "cell_type": "code",
   "execution_count": 84,
   "id": "29b3caf6",
   "metadata": {},
   "outputs": [
    {
     "name": "stderr",
     "output_type": "stream",
     "text": [
      "<ipython-input-84-afe56cde84dd>:1: SettingWithCopyWarning: \n",
      "A value is trying to be set on a copy of a slice from a DataFrame.\n",
      "Try using .loc[row_indexer,col_indexer] = value instead\n",
      "\n",
      "See the caveats in the documentation: https://pandas.pydata.org/pandas-docs/stable/user_guide/indexing.html#returning-a-view-versus-a-copy\n",
      "  customer_data[\"RFM\"] = customer_data[\"RecencyScore\"] + customer_data[\"FrequencyScore\"] + customer_data[\"MonetaryScore\"]\n"
     ]
    },
    {
     "data": {
      "text/plain": [
       "3     640\n",
       "12    550\n",
       "6     475\n",
       "9     464\n",
       "11    433\n",
       "8     403\n",
       "7     392\n",
       "4     367\n",
       "5     358\n",
       "10    353\n",
       "Name: RFM, dtype: int64"
      ]
     },
     "execution_count": 84,
     "metadata": {},
     "output_type": "execute_result"
    }
   ],
   "source": [
    "customer_data[\"RFM\"] = customer_data[\"RecencyScore\"] + customer_data[\"FrequencyScore\"] + customer_data[\"MonetaryScore\"]\n",
    "customer_data[\"RFM\"].value_counts()"
   ]
  },
  {
   "cell_type": "code",
   "execution_count": 85,
   "id": "a81f9c4c",
   "metadata": {},
   "outputs": [
    {
     "data": {
      "text/html": [
       "<div>\n",
       "<style scoped>\n",
       "    .dataframe tbody tr th:only-of-type {\n",
       "        vertical-align: middle;\n",
       "    }\n",
       "\n",
       "    .dataframe tbody tr th {\n",
       "        vertical-align: top;\n",
       "    }\n",
       "\n",
       "    .dataframe thead tr th {\n",
       "        text-align: left;\n",
       "    }\n",
       "\n",
       "    .dataframe thead tr:last-of-type th {\n",
       "        text-align: right;\n",
       "    }\n",
       "</style>\n",
       "<table border=\"1\" class=\"dataframe\">\n",
       "  <thead>\n",
       "    <tr>\n",
       "      <th></th>\n",
       "      <th colspan=\"3\" halign=\"left\">Frequency</th>\n",
       "      <th colspan=\"4\" halign=\"left\">Lifetime</th>\n",
       "      <th colspan=\"3\" halign=\"left\">MonetaryValue</th>\n",
       "      <th colspan=\"3\" halign=\"left\">Recency</th>\n",
       "    </tr>\n",
       "    <tr>\n",
       "      <th></th>\n",
       "      <th>amax</th>\n",
       "      <th>amin</th>\n",
       "      <th>median</th>\n",
       "      <th>amax</th>\n",
       "      <th>amin</th>\n",
       "      <th>count</th>\n",
       "      <th>median</th>\n",
       "      <th>amax</th>\n",
       "      <th>amin</th>\n",
       "      <th>median</th>\n",
       "      <th>amax</th>\n",
       "      <th>amin</th>\n",
       "      <th>median</th>\n",
       "    </tr>\n",
       "    <tr>\n",
       "      <th>RFM</th>\n",
       "      <th></th>\n",
       "      <th></th>\n",
       "      <th></th>\n",
       "      <th></th>\n",
       "      <th></th>\n",
       "      <th></th>\n",
       "      <th></th>\n",
       "      <th></th>\n",
       "      <th></th>\n",
       "      <th></th>\n",
       "      <th></th>\n",
       "      <th></th>\n",
       "      <th></th>\n",
       "    </tr>\n",
       "  </thead>\n",
       "  <tbody>\n",
       "    <tr>\n",
       "      <th>3</th>\n",
       "      <td>3</td>\n",
       "      <td>1</td>\n",
       "      <td>1</td>\n",
       "      <td>3589.0</td>\n",
       "      <td>1052.0</td>\n",
       "      <td>640.0</td>\n",
       "      <td>2696.0</td>\n",
       "      <td>1740.00</td>\n",
       "      <td>26.00</td>\n",
       "      <td>349.25</td>\n",
       "      <td>3589.0</td>\n",
       "      <td>1052.0</td>\n",
       "      <td>2696.0</td>\n",
       "    </tr>\n",
       "    <tr>\n",
       "      <th>4</th>\n",
       "      <td>3</td>\n",
       "      <td>1</td>\n",
       "      <td>2</td>\n",
       "      <td>3595.0</td>\n",
       "      <td>338.0</td>\n",
       "      <td>367.0</td>\n",
       "      <td>2696.0</td>\n",
       "      <td>5775.00</td>\n",
       "      <td>0.00</td>\n",
       "      <td>900.00</td>\n",
       "      <td>3551.0</td>\n",
       "      <td>338.0</td>\n",
       "      <td>2636.0</td>\n",
       "    </tr>\n",
       "    <tr>\n",
       "      <th>5</th>\n",
       "      <td>10</td>\n",
       "      <td>1</td>\n",
       "      <td>2</td>\n",
       "      <td>3595.0</td>\n",
       "      <td>341.0</td>\n",
       "      <td>358.0</td>\n",
       "      <td>2661.5</td>\n",
       "      <td>23400.00</td>\n",
       "      <td>184.50</td>\n",
       "      <td>1073.25</td>\n",
       "      <td>3562.0</td>\n",
       "      <td>341.0</td>\n",
       "      <td>2301.5</td>\n",
       "    </tr>\n",
       "    <tr>\n",
       "      <th>6</th>\n",
       "      <td>13</td>\n",
       "      <td>1</td>\n",
       "      <td>4</td>\n",
       "      <td>3595.0</td>\n",
       "      <td>114.0</td>\n",
       "      <td>475.0</td>\n",
       "      <td>2725.0</td>\n",
       "      <td>196000.00</td>\n",
       "      <td>153.33</td>\n",
       "      <td>2260.00</td>\n",
       "      <td>3539.0</td>\n",
       "      <td>114.0</td>\n",
       "      <td>2293.0</td>\n",
       "    </tr>\n",
       "    <tr>\n",
       "      <th>7</th>\n",
       "      <td>34</td>\n",
       "      <td>1</td>\n",
       "      <td>4</td>\n",
       "      <td>3589.0</td>\n",
       "      <td>79.0</td>\n",
       "      <td>392.0</td>\n",
       "      <td>2537.5</td>\n",
       "      <td>248639.90</td>\n",
       "      <td>124.00</td>\n",
       "      <td>3782.05</td>\n",
       "      <td>3516.0</td>\n",
       "      <td>2.0</td>\n",
       "      <td>1493.0</td>\n",
       "    </tr>\n",
       "    <tr>\n",
       "      <th>8</th>\n",
       "      <td>35</td>\n",
       "      <td>1</td>\n",
       "      <td>7</td>\n",
       "      <td>3595.0</td>\n",
       "      <td>23.0</td>\n",
       "      <td>403.0</td>\n",
       "      <td>2420.0</td>\n",
       "      <td>560973.14</td>\n",
       "      <td>158.00</td>\n",
       "      <td>4545.00</td>\n",
       "      <td>3380.0</td>\n",
       "      <td>15.0</td>\n",
       "      <td>1102.0</td>\n",
       "    </tr>\n",
       "    <tr>\n",
       "      <th>9</th>\n",
       "      <td>58</td>\n",
       "      <td>1</td>\n",
       "      <td>12</td>\n",
       "      <td>3595.0</td>\n",
       "      <td>1.0</td>\n",
       "      <td>464.0</td>\n",
       "      <td>2684.0</td>\n",
       "      <td>660078.00</td>\n",
       "      <td>289.00</td>\n",
       "      <td>10277.89</td>\n",
       "      <td>3418.0</td>\n",
       "      <td>1.0</td>\n",
       "      <td>980.0</td>\n",
       "    </tr>\n",
       "    <tr>\n",
       "      <th>10</th>\n",
       "      <td>85</td>\n",
       "      <td>2</td>\n",
       "      <td>16</td>\n",
       "      <td>3595.0</td>\n",
       "      <td>25.0</td>\n",
       "      <td>353.0</td>\n",
       "      <td>2393.0</td>\n",
       "      <td>1063587.50</td>\n",
       "      <td>356.00</td>\n",
       "      <td>14915.00</td>\n",
       "      <td>2692.0</td>\n",
       "      <td>1.0</td>\n",
       "      <td>417.0</td>\n",
       "    </tr>\n",
       "    <tr>\n",
       "      <th>11</th>\n",
       "      <td>145</td>\n",
       "      <td>2</td>\n",
       "      <td>33</td>\n",
       "      <td>3596.0</td>\n",
       "      <td>45.0</td>\n",
       "      <td>433.0</td>\n",
       "      <td>2858.0</td>\n",
       "      <td>1300921.10</td>\n",
       "      <td>509.50</td>\n",
       "      <td>26755.30</td>\n",
       "      <td>2199.0</td>\n",
       "      <td>1.0</td>\n",
       "      <td>131.0</td>\n",
       "    </tr>\n",
       "    <tr>\n",
       "      <th>12</th>\n",
       "      <td>251</td>\n",
       "      <td>2</td>\n",
       "      <td>51</td>\n",
       "      <td>3596.0</td>\n",
       "      <td>23.0</td>\n",
       "      <td>550.0</td>\n",
       "      <td>2747.5</td>\n",
       "      <td>1529750.90</td>\n",
       "      <td>1467.40</td>\n",
       "      <td>92433.75</td>\n",
       "      <td>863.0</td>\n",
       "      <td>1.0</td>\n",
       "      <td>31.5</td>\n",
       "    </tr>\n",
       "  </tbody>\n",
       "</table>\n",
       "</div>"
      ],
      "text/plain": [
       "    Frequency             Lifetime                        MonetaryValue  \\\n",
       "         amax amin median     amax    amin  count  median          amax   \n",
       "RFM                                                                       \n",
       "3           3    1      1   3589.0  1052.0  640.0  2696.0       1740.00   \n",
       "4           3    1      2   3595.0   338.0  367.0  2696.0       5775.00   \n",
       "5          10    1      2   3595.0   341.0  358.0  2661.5      23400.00   \n",
       "6          13    1      4   3595.0   114.0  475.0  2725.0     196000.00   \n",
       "7          34    1      4   3589.0    79.0  392.0  2537.5     248639.90   \n",
       "8          35    1      7   3595.0    23.0  403.0  2420.0     560973.14   \n",
       "9          58    1     12   3595.0     1.0  464.0  2684.0     660078.00   \n",
       "10         85    2     16   3595.0    25.0  353.0  2393.0    1063587.50   \n",
       "11        145    2     33   3596.0    45.0  433.0  2858.0    1300921.10   \n",
       "12        251    2     51   3596.0    23.0  550.0  2747.5    1529750.90   \n",
       "\n",
       "                       Recency                  \n",
       "        amin    median    amax    amin  median  \n",
       "RFM                                             \n",
       "3      26.00    349.25  3589.0  1052.0  2696.0  \n",
       "4       0.00    900.00  3551.0   338.0  2636.0  \n",
       "5     184.50   1073.25  3562.0   341.0  2301.5  \n",
       "6     153.33   2260.00  3539.0   114.0  2293.0  \n",
       "7     124.00   3782.05  3516.0     2.0  1493.0  \n",
       "8     158.00   4545.00  3380.0    15.0  1102.0  \n",
       "9     289.00  10277.89  3418.0     1.0   980.0  \n",
       "10    356.00  14915.00  2692.0     1.0   417.0  \n",
       "11    509.50  26755.30  2199.0     1.0   131.0  \n",
       "12   1467.40  92433.75   863.0     1.0    31.5  "
      ]
     },
     "execution_count": 85,
     "metadata": {},
     "output_type": "execute_result"
    }
   ],
   "source": [
    "rfm_rel = pd.DataFrame(customer_data.pivot_table(index=[\"RFM\"], \n",
    "                                    values=[\"Recency\", \"Frequency\", \"MonetaryValue\", \"Lifetime\"], \n",
    "                                    aggfunc={\"Recency\": [np.min, np.median, np.max], \n",
    "                                             \"Frequency\": [np.min, np.median, np.max], \n",
    "                                             \"MonetaryValue\": [np.min, np.median, np.max], \n",
    "                                             \"Lifetime\": [np.min, np.median, np.max, \"count\"]}))\n",
    "rfm_rel\n",
    "# Note that the median lifetime is rather constant across clusters. This is a good news - our segmentation is not biased by the lifetime\n",
    "# of the customers."
   ]
  },
  {
   "cell_type": "code",
   "execution_count": 106,
   "id": "e8dbbcda",
   "metadata": {},
   "outputs": [
    {
     "data": {
      "image/png": "[encoded data removed]",
      "text/plain": [
       "<Figure size 432x288 with 2 Axes>"
      ]
     },
     "metadata": {
      "needs_background": "light"
     },
     "output_type": "display_data"
    }
   ],
   "source": [
    "fig, axes = plt.subplots(nrows=2, ncols=1)\n",
    "fig.suptitle('Tempo média de vida dos segmentos RFM (Absoluto vs Relativo)')\n",
    "rfm_abs[\"Lifetime\"][\"median\"].plot(ax=axes[0], kind=\"bar\")\n",
    "rfm_rel[\"Lifetime\"][\"median\"].plot(ax=axes[1], kind=\"bar\")\n",
    "plt.show()"
   ]
  },
  {
   "cell_type": "code",
   "execution_count": 87,
   "id": "bd5f5ccf",
   "metadata": {},
   "outputs": [
    {
     "data": {
      "image/png": "[encoded data removed]",
      "text/plain": [
       "<Figure size 720x576 with 1 Axes>"
      ]
     },
     "metadata": {
      "needs_background": "light"
     },
     "output_type": "display_data"
    }
   ],
   "source": [
    "# Visualise segments using 3D plot\n",
    "x = customer_data[\"RelRecency\"]\n",
    "y = customer_data[\"RelFrequency\"]\n",
    "z = (customer_data[\"RelMonetaryValue\"] - customer_data[\"RelMonetaryValue\"].min()) / customer_data[\"RelMonetaryValue\"].max()\n",
    "c = customer_data[\"RFM\"]\n",
    "fig = plt.figure(figsize=(10, 8))\n",
    "ax = fig.add_subplot(111, projection='3d')\n",
    "ax.scatter(xs=x, ys=y, zs=z, c=c, s=30, alpha=0.5)\n",
    "ax.set_title(\"RFM Visualisation\")\n",
    "ax.set_xlabel(\"Relative Recency\")\n",
    "ax.set_ylabel(\"Relative Frequency\")\n",
    "ax.set_zlabel(\"Relative Monetary Value (with Min-Max Standardisation)\")\n",
    "plt.show()"
   ]
  },
  {
   "cell_type": "code",
   "execution_count": 88,
   "id": "4b1131e2",
   "metadata": {},
   "outputs": [
    {
     "data": {
      "text/plain": [
       "Text(0.5, 1.0, 'Relative Recency (x) vs Relative Monetary Value (y)')"
      ]
     },
     "execution_count": 88,
     "metadata": {},
     "output_type": "execute_result"
    },
    {
     "data": {
      "image/png": "[encoded data removed]",
      "text/plain": [
       "<Figure size 360x1080 with 3 Axes>"
      ]
     },
     "metadata": {
      "needs_background": "light"
     },
     "output_type": "display_data"
    }
   ],
   "source": [
    "fig, axs = plt.subplots(nrows=3, ncols=1, sharex=True, sharey=True, figsize=(5, 15))\n",
    "fig.suptitle('Correlation between R, F and M')\n",
    "\n",
    "axs[0].scatter(x, y, alpha=0.5)\n",
    "axs[0].set_title(\"Relative Recency (x) vs Relative Frequency (y)\")\n",
    "\n",
    "axs[1].scatter(y, z, alpha=0.5)\n",
    "axs[1].set_title(\"Relative Frequency (x) vs Relative Monetary Value (y)\")\n",
    "\n",
    "axs[2].scatter(x, z, alpha=0.5)\n",
    "axs[2].set_title(\"Relative Recency (x) vs Relative Monetary Value (y)\")"
   ]
  },
  {
   "cell_type": "code",
   "execution_count": 89,
   "id": "a1a647ce",
   "metadata": {},
   "outputs": [
    {
     "data": {
      "image/png": "[encoded data removed]",
      "text/plain": [
       "<Figure size 720x576 with 1 Axes>"
      ]
     },
     "metadata": {
      "needs_background": "light"
     },
     "output_type": "display_data"
    }
   ],
   "source": [
    "x = customer_data[\"RecencyScore\"]\n",
    "y = customer_data[\"FrequencyScore\"]\n",
    "z = customer_data[\"MonetaryScore\"]\n",
    "c = customer_data[\"RFM\"]\n",
    "fig = plt.figure(figsize=(10, 8))\n",
    "ax = fig.add_subplot(111, projection='3d')\n",
    "ax.scatter(xs=x, ys=y, zs=z, c=c, s=30, alpha=0.5)\n",
    "ax.set_title(\"RFM Visualisation\")\n",
    "ax.set_xlabel(\"Recency Score\")\n",
    "ax.set_ylabel(\"Frequency Score\")\n",
    "ax.set_zlabel(\"Monetary Score\")\n",
    "plt.show()"
   ]
  },
  {
   "cell_type": "code",
   "execution_count": 90,
   "id": "f9b5a194",
   "metadata": {},
   "outputs": [
    {
     "data": {
      "text/html": [
       "<div>\n",
       "<style scoped>\n",
       "    .dataframe tbody tr th:only-of-type {\n",
       "        vertical-align: middle;\n",
       "    }\n",
       "\n",
       "    .dataframe tbody tr th {\n",
       "        vertical-align: top;\n",
       "    }\n",
       "\n",
       "    .dataframe thead th {\n",
       "        text-align: right;\n",
       "    }\n",
       "</style>\n",
       "<table border=\"1\" class=\"dataframe\">\n",
       "  <thead>\n",
       "    <tr style=\"text-align: right;\">\n",
       "      <th></th>\n",
       "      <th>CustomerID</th>\n",
       "      <th>Frequency</th>\n",
       "      <th>MonetaryValue</th>\n",
       "      <th>Recency</th>\n",
       "      <th>RecencyScore</th>\n",
       "      <th>FrequencyScore</th>\n",
       "      <th>MonetaryScore</th>\n",
       "      <th>RFM</th>\n",
       "      <th>Lifetime</th>\n",
       "      <th>RelFrequency</th>\n",
       "      <th>RelRecency</th>\n",
       "      <th>RelMonetaryValue</th>\n",
       "    </tr>\n",
       "  </thead>\n",
       "  <tbody>\n",
       "    <tr>\n",
       "      <th>count</th>\n",
       "      <td>4435.000000</td>\n",
       "      <td>4435.000000</td>\n",
       "      <td>4.435000e+03</td>\n",
       "      <td>4435.000000</td>\n",
       "      <td>4435.000000</td>\n",
       "      <td>4435.000000</td>\n",
       "      <td>4435.000000</td>\n",
       "      <td>4435.000000</td>\n",
       "      <td>4435.000000</td>\n",
       "      <td>4435.000000</td>\n",
       "      <td>4435.000000</td>\n",
       "      <td>4435.000000</td>\n",
       "    </tr>\n",
       "    <tr>\n",
       "      <th>mean</th>\n",
       "      <td>9266.893799</td>\n",
       "      <td>15.976099</td>\n",
       "      <td>3.928795e+04</td>\n",
       "      <td>1420.933258</td>\n",
       "      <td>2.485908</td>\n",
       "      <td>2.484780</td>\n",
       "      <td>2.484780</td>\n",
       "      <td>7.455468</td>\n",
       "      <td>2318.191432</td>\n",
       "      <td>0.008170</td>\n",
       "      <td>0.375425</td>\n",
       "      <td>27.397411</td>\n",
       "    </tr>\n",
       "    <tr>\n",
       "      <th>std</th>\n",
       "      <td>5453.219017</td>\n",
       "      <td>26.813071</td>\n",
       "      <td>1.269583e+05</td>\n",
       "      <td>1151.183247</td>\n",
       "      <td>1.114536</td>\n",
       "      <td>1.113509</td>\n",
       "      <td>1.113509</td>\n",
       "      <td>3.027611</td>\n",
       "      <td>1117.250890</td>\n",
       "      <td>0.021506</td>\n",
       "      <td>0.377245</td>\n",
       "      <td>163.225053</td>\n",
       "    </tr>\n",
       "    <tr>\n",
       "      <th>min</th>\n",
       "      <td>1.000000</td>\n",
       "      <td>1.000000</td>\n",
       "      <td>0.000000e+00</td>\n",
       "      <td>1.000000</td>\n",
       "      <td>1.000000</td>\n",
       "      <td>1.000000</td>\n",
       "      <td>1.000000</td>\n",
       "      <td>3.000000</td>\n",
       "      <td>1.000000</td>\n",
       "      <td>0.000279</td>\n",
       "      <td>0.000000</td>\n",
       "      <td>0.000000</td>\n",
       "    </tr>\n",
       "    <tr>\n",
       "      <th>25%</th>\n",
       "      <td>4809.000000</td>\n",
       "      <td>2.000000</td>\n",
       "      <td>9.197500e+02</td>\n",
       "      <td>205.000000</td>\n",
       "      <td>1.000000</td>\n",
       "      <td>1.000000</td>\n",
       "      <td>1.000000</td>\n",
       "      <td>5.000000</td>\n",
       "      <td>1291.500000</td>\n",
       "      <td>0.000993</td>\n",
       "      <td>0.010078</td>\n",
       "      <td>0.492496</td>\n",
       "    </tr>\n",
       "    <tr>\n",
       "      <th>50%</th>\n",
       "      <td>8747.000000</td>\n",
       "      <td>5.000000</td>\n",
       "      <td>3.781500e+03</td>\n",
       "      <td>1287.000000</td>\n",
       "      <td>2.000000</td>\n",
       "      <td>2.000000</td>\n",
       "      <td>2.000000</td>\n",
       "      <td>7.000000</td>\n",
       "      <td>2689.000000</td>\n",
       "      <td>0.003088</td>\n",
       "      <td>0.230232</td>\n",
       "      <td>2.358494</td>\n",
       "    </tr>\n",
       "    <tr>\n",
       "      <th>75%</th>\n",
       "      <td>14029.500000</td>\n",
       "      <td>17.000000</td>\n",
       "      <td>1.843990e+04</td>\n",
       "      <td>2473.000000</td>\n",
       "      <td>3.000000</td>\n",
       "      <td>3.000000</td>\n",
       "      <td>3.000000</td>\n",
       "      <td>10.000000</td>\n",
       "      <td>3414.000000</td>\n",
       "      <td>0.009998</td>\n",
       "      <td>0.742921</td>\n",
       "      <td>11.032182</td>\n",
       "    </tr>\n",
       "    <tr>\n",
       "      <th>max</th>\n",
       "      <td>19047.000000</td>\n",
       "      <td>251.000000</td>\n",
       "      <td>1.529751e+06</td>\n",
       "      <td>3589.000000</td>\n",
       "      <td>4.000000</td>\n",
       "      <td>4.000000</td>\n",
       "      <td>4.000000</td>\n",
       "      <td>12.000000</td>\n",
       "      <td>3596.000000</td>\n",
       "      <td>1.000000</td>\n",
       "      <td>0.999721</td>\n",
       "      <td>6581.000000</td>\n",
       "    </tr>\n",
       "  </tbody>\n",
       "</table>\n",
       "</div>"
      ],
      "text/plain": [
       "         CustomerID    Frequency  MonetaryValue      Recency  RecencyScore  \\\n",
       "count   4435.000000  4435.000000   4.435000e+03  4435.000000   4435.000000   \n",
       "mean    9266.893799    15.976099   3.928795e+04  1420.933258      2.485908   \n",
       "std     5453.219017    26.813071   1.269583e+05  1151.183247      1.114536   \n",
       "min        1.000000     1.000000   0.000000e+00     1.000000      1.000000   \n",
       "25%     4809.000000     2.000000   9.197500e+02   205.000000      1.000000   \n",
       "50%     8747.000000     5.000000   3.781500e+03  1287.000000      2.000000   \n",
       "75%    14029.500000    17.000000   1.843990e+04  2473.000000      3.000000   \n",
       "max    19047.000000   251.000000   1.529751e+06  3589.000000      4.000000   \n",
       "\n",
       "       FrequencyScore  MonetaryScore          RFM     Lifetime  RelFrequency  \\\n",
       "count     4435.000000    4435.000000  4435.000000  4435.000000   4435.000000   \n",
       "mean         2.484780       2.484780     7.455468  2318.191432      0.008170   \n",
       "std          1.113509       1.113509     3.027611  1117.250890      0.021506   \n",
       "min          1.000000       1.000000     3.000000     1.000000      0.000279   \n",
       "25%          1.000000       1.000000     5.000000  1291.500000      0.000993   \n",
       "50%          2.000000       2.000000     7.000000  2689.000000      0.003088   \n",
       "75%          3.000000       3.000000    10.000000  3414.000000      0.009998   \n",
       "max          4.000000       4.000000    12.000000  3596.000000      1.000000   \n",
       "\n",
       "        RelRecency  RelMonetaryValue  \n",
       "count  4435.000000       4435.000000  \n",
       "mean      0.375425         27.397411  \n",
       "std       0.377245        163.225053  \n",
       "min       0.000000          0.000000  \n",
       "25%       0.010078          0.492496  \n",
       "50%       0.230232          2.358494  \n",
       "75%       0.742921         11.032182  \n",
       "max       0.999721       6581.000000  "
      ]
     },
     "execution_count": 90,
     "metadata": {},
     "output_type": "execute_result"
    }
   ],
   "source": [
    "customer_data.describe()"
   ]
  },
  {
   "cell_type": "code",
   "execution_count": 91,
   "id": "4df2f438",
   "metadata": {
    "scrolled": true
   },
   "outputs": [
    {
     "data": {
      "text/html": [
       "<div>\n",
       "<style scoped>\n",
       "    .dataframe tbody tr th:only-of-type {\n",
       "        vertical-align: middle;\n",
       "    }\n",
       "\n",
       "    .dataframe tbody tr th {\n",
       "        vertical-align: top;\n",
       "    }\n",
       "\n",
       "    .dataframe thead tr th {\n",
       "        text-align: left;\n",
       "    }\n",
       "\n",
       "    .dataframe thead tr:last-of-type th {\n",
       "        text-align: right;\n",
       "    }\n",
       "</style>\n",
       "<table border=\"1\" class=\"dataframe\">\n",
       "  <thead>\n",
       "    <tr>\n",
       "      <th></th>\n",
       "      <th colspan=\"3\" halign=\"left\">Frequency</th>\n",
       "      <th colspan=\"4\" halign=\"left\">Lifetime</th>\n",
       "      <th colspan=\"3\" halign=\"left\">MonetaryValue</th>\n",
       "      <th colspan=\"3\" halign=\"left\">Recency</th>\n",
       "    </tr>\n",
       "    <tr>\n",
       "      <th></th>\n",
       "      <th>amax</th>\n",
       "      <th>amin</th>\n",
       "      <th>median</th>\n",
       "      <th>amax</th>\n",
       "      <th>amin</th>\n",
       "      <th>count</th>\n",
       "      <th>median</th>\n",
       "      <th>amax</th>\n",
       "      <th>amin</th>\n",
       "      <th>median</th>\n",
       "      <th>amax</th>\n",
       "      <th>amin</th>\n",
       "      <th>median</th>\n",
       "    </tr>\n",
       "    <tr>\n",
       "      <th>RFM</th>\n",
       "      <th></th>\n",
       "      <th></th>\n",
       "      <th></th>\n",
       "      <th></th>\n",
       "      <th></th>\n",
       "      <th></th>\n",
       "      <th></th>\n",
       "      <th></th>\n",
       "      <th></th>\n",
       "      <th></th>\n",
       "      <th></th>\n",
       "      <th></th>\n",
       "      <th></th>\n",
       "    </tr>\n",
       "  </thead>\n",
       "  <tbody>\n",
       "    <tr>\n",
       "      <th>3</th>\n",
       "      <td>3</td>\n",
       "      <td>1</td>\n",
       "      <td>1</td>\n",
       "      <td>3589.0</td>\n",
       "      <td>1052.0</td>\n",
       "      <td>640.0</td>\n",
       "      <td>2696.0</td>\n",
       "      <td>1740.00</td>\n",
       "      <td>26.00</td>\n",
       "      <td>349.25</td>\n",
       "      <td>3589.0</td>\n",
       "      <td>1052.0</td>\n",
       "      <td>2696.0</td>\n",
       "    </tr>\n",
       "    <tr>\n",
       "      <th>4</th>\n",
       "      <td>3</td>\n",
       "      <td>1</td>\n",
       "      <td>2</td>\n",
       "      <td>3595.0</td>\n",
       "      <td>338.0</td>\n",
       "      <td>367.0</td>\n",
       "      <td>2696.0</td>\n",
       "      <td>5775.00</td>\n",
       "      <td>0.00</td>\n",
       "      <td>900.00</td>\n",
       "      <td>3551.0</td>\n",
       "      <td>338.0</td>\n",
       "      <td>2636.0</td>\n",
       "    </tr>\n",
       "    <tr>\n",
       "      <th>5</th>\n",
       "      <td>10</td>\n",
       "      <td>1</td>\n",
       "      <td>2</td>\n",
       "      <td>3595.0</td>\n",
       "      <td>341.0</td>\n",
       "      <td>358.0</td>\n",
       "      <td>2661.5</td>\n",
       "      <td>23400.00</td>\n",
       "      <td>184.50</td>\n",
       "      <td>1073.25</td>\n",
       "      <td>3562.0</td>\n",
       "      <td>341.0</td>\n",
       "      <td>2301.5</td>\n",
       "    </tr>\n",
       "    <tr>\n",
       "      <th>6</th>\n",
       "      <td>13</td>\n",
       "      <td>1</td>\n",
       "      <td>4</td>\n",
       "      <td>3595.0</td>\n",
       "      <td>114.0</td>\n",
       "      <td>475.0</td>\n",
       "      <td>2725.0</td>\n",
       "      <td>196000.00</td>\n",
       "      <td>153.33</td>\n",
       "      <td>2260.00</td>\n",
       "      <td>3539.0</td>\n",
       "      <td>114.0</td>\n",
       "      <td>2293.0</td>\n",
       "    </tr>\n",
       "    <tr>\n",
       "      <th>7</th>\n",
       "      <td>34</td>\n",
       "      <td>1</td>\n",
       "      <td>4</td>\n",
       "      <td>3589.0</td>\n",
       "      <td>79.0</td>\n",
       "      <td>392.0</td>\n",
       "      <td>2537.5</td>\n",
       "      <td>248639.90</td>\n",
       "      <td>124.00</td>\n",
       "      <td>3782.05</td>\n",
       "      <td>3516.0</td>\n",
       "      <td>2.0</td>\n",
       "      <td>1493.0</td>\n",
       "    </tr>\n",
       "    <tr>\n",
       "      <th>8</th>\n",
       "      <td>35</td>\n",
       "      <td>1</td>\n",
       "      <td>7</td>\n",
       "      <td>3595.0</td>\n",
       "      <td>23.0</td>\n",
       "      <td>403.0</td>\n",
       "      <td>2420.0</td>\n",
       "      <td>560973.14</td>\n",
       "      <td>158.00</td>\n",
       "      <td>4545.00</td>\n",
       "      <td>3380.0</td>\n",
       "      <td>15.0</td>\n",
       "      <td>1102.0</td>\n",
       "    </tr>\n",
       "    <tr>\n",
       "      <th>9</th>\n",
       "      <td>58</td>\n",
       "      <td>1</td>\n",
       "      <td>12</td>\n",
       "      <td>3595.0</td>\n",
       "      <td>1.0</td>\n",
       "      <td>464.0</td>\n",
       "      <td>2684.0</td>\n",
       "      <td>660078.00</td>\n",
       "      <td>289.00</td>\n",
       "      <td>10277.89</td>\n",
       "      <td>3418.0</td>\n",
       "      <td>1.0</td>\n",
       "      <td>980.0</td>\n",
       "    </tr>\n",
       "    <tr>\n",
       "      <th>10</th>\n",
       "      <td>85</td>\n",
       "      <td>2</td>\n",
       "      <td>16</td>\n",
       "      <td>3595.0</td>\n",
       "      <td>25.0</td>\n",
       "      <td>353.0</td>\n",
       "      <td>2393.0</td>\n",
       "      <td>1063587.50</td>\n",
       "      <td>356.00</td>\n",
       "      <td>14915.00</td>\n",
       "      <td>2692.0</td>\n",
       "      <td>1.0</td>\n",
       "      <td>417.0</td>\n",
       "    </tr>\n",
       "    <tr>\n",
       "      <th>11</th>\n",
       "      <td>145</td>\n",
       "      <td>2</td>\n",
       "      <td>33</td>\n",
       "      <td>3596.0</td>\n",
       "      <td>45.0</td>\n",
       "      <td>433.0</td>\n",
       "      <td>2858.0</td>\n",
       "      <td>1300921.10</td>\n",
       "      <td>509.50</td>\n",
       "      <td>26755.30</td>\n",
       "      <td>2199.0</td>\n",
       "      <td>1.0</td>\n",
       "      <td>131.0</td>\n",
       "    </tr>\n",
       "    <tr>\n",
       "      <th>12</th>\n",
       "      <td>251</td>\n",
       "      <td>2</td>\n",
       "      <td>51</td>\n",
       "      <td>3596.0</td>\n",
       "      <td>23.0</td>\n",
       "      <td>550.0</td>\n",
       "      <td>2747.5</td>\n",
       "      <td>1529750.90</td>\n",
       "      <td>1467.40</td>\n",
       "      <td>92433.75</td>\n",
       "      <td>863.0</td>\n",
       "      <td>1.0</td>\n",
       "      <td>31.5</td>\n",
       "    </tr>\n",
       "  </tbody>\n",
       "</table>\n",
       "</div>"
      ],
      "text/plain": [
       "    Frequency             Lifetime                        MonetaryValue  \\\n",
       "         amax amin median     amax    amin  count  median          amax   \n",
       "RFM                                                                       \n",
       "3           3    1      1   3589.0  1052.0  640.0  2696.0       1740.00   \n",
       "4           3    1      2   3595.0   338.0  367.0  2696.0       5775.00   \n",
       "5          10    1      2   3595.0   341.0  358.0  2661.5      23400.00   \n",
       "6          13    1      4   3595.0   114.0  475.0  2725.0     196000.00   \n",
       "7          34    1      4   3589.0    79.0  392.0  2537.5     248639.90   \n",
       "8          35    1      7   3595.0    23.0  403.0  2420.0     560973.14   \n",
       "9          58    1     12   3595.0     1.0  464.0  2684.0     660078.00   \n",
       "10         85    2     16   3595.0    25.0  353.0  2393.0    1063587.50   \n",
       "11        145    2     33   3596.0    45.0  433.0  2858.0    1300921.10   \n",
       "12        251    2     51   3596.0    23.0  550.0  2747.5    1529750.90   \n",
       "\n",
       "                       Recency                  \n",
       "        amin    median    amax    amin  median  \n",
       "RFM                                             \n",
       "3      26.00    349.25  3589.0  1052.0  2696.0  \n",
       "4       0.00    900.00  3551.0   338.0  2636.0  \n",
       "5     184.50   1073.25  3562.0   341.0  2301.5  \n",
       "6     153.33   2260.00  3539.0   114.0  2293.0  \n",
       "7     124.00   3782.05  3516.0     2.0  1493.0  \n",
       "8     158.00   4545.00  3380.0    15.0  1102.0  \n",
       "9     289.00  10277.89  3418.0     1.0   980.0  \n",
       "10    356.00  14915.00  2692.0     1.0   417.0  \n",
       "11    509.50  26755.30  2199.0     1.0   131.0  \n",
       "12   1467.40  92433.75   863.0     1.0    31.5  "
      ]
     },
     "execution_count": 91,
     "metadata": {},
     "output_type": "execute_result"
    }
   ],
   "source": [
    "rfm_rel"
   ]
  },
  {
   "cell_type": "code",
   "execution_count": 102,
   "id": "ebcd2375",
   "metadata": {},
   "outputs": [
    {
     "name": "stderr",
     "output_type": "stream",
     "text": [
      "<ipython-input-102-b3fe12c81fe3>:1: SettingWithCopyWarning: \n",
      "A value is trying to be set on a copy of a slice from a DataFrame.\n",
      "Try using .loc[row_indexer,col_indexer] = value instead\n",
      "\n",
      "See the caveats in the documentation: https://pandas.pydata.org/pandas-docs/stable/user_guide/indexing.html#returning-a-view-versus-a-copy\n",
      "  customer_data[\"last_order_within_l80d\"] = customer_data[\"Recency\"]<180 # Had transactions in the last 60 days\n",
      "<ipython-input-102-b3fe12c81fe3>:2: SettingWithCopyWarning: \n",
      "A value is trying to be set on a copy of a slice from a DataFrame.\n",
      "Try using .loc[row_indexer,col_indexer] = value instead\n",
      "\n",
      "See the caveats in the documentation: https://pandas.pydata.org/pandas-docs/stable/user_guide/indexing.html#returning-a-view-versus-a-copy\n",
      "  customer_data[\"more_than_four_orders\"] = customer_data[\"Frequency\"]>3 # Logged in more than twice\n",
      "<ipython-input-102-b3fe12c81fe3>:3: SettingWithCopyWarning: \n",
      "A value is trying to be set on a copy of a slice from a DataFrame.\n",
      "Try using .loc[row_indexer,col_indexer] = value instead\n",
      "\n",
      "See the caveats in the documentation: https://pandas.pydata.org/pandas-docs/stable/user_guide/indexing.html#returning-a-view-versus-a-copy\n",
      "  customer_data[\"value_higher_than_14k\"] = customer_data[\"MonetaryValue\"]>14000 # Sum of value higher than 2K\n"
     ]
    },
    {
     "data": {
      "text/plain": [
       "last_order_within_l80d  more_than_four_orders  value_higher_than_14k\n",
       "False                   False                  False                    1631\n",
       "                                               True                       62\n",
       "                        True                   False                    1091\n",
       "                                               True                      595\n",
       "True                    False                  False                     218\n",
       "                                               True                       17\n",
       "                        True                   False                     198\n",
       "                                               True                      623\n",
       "Name: Lifetime, dtype: int64"
      ]
     },
     "execution_count": 102,
     "metadata": {},
     "output_type": "execute_result"
    }
   ],
   "source": [
    "customer_data[\"last_order_within_l80d\"] = customer_data[\"Recency\"]<180 # Had transactions in the last 60 days\n",
    "customer_data[\"more_than_four_orders\"] = customer_data[\"Frequency\"]>3 # Logged in more than twice\n",
    "customer_data[\"value_higher_than_14k\"] = customer_data[\"MonetaryValue\"]>14000 # Sum of value higher than 2K\n",
    "customer_data.groupby([\"last_order_within_l80d\", \"more_than_four_orders\", \"value_higher_than_14k\"]).count()[\"Lifetime\"]"
   ]
  },
  {
   "cell_type": "code",
   "execution_count": 103,
   "id": "f64a5a7a",
   "metadata": {},
   "outputs": [
    {
     "name": "stderr",
     "output_type": "stream",
     "text": [
      "<ipython-input-103-a5050f4bc810>:14: SettingWithCopyWarning: \n",
      "A value is trying to be set on a copy of a slice from a DataFrame.\n",
      "Try using .loc[row_indexer,col_indexer] = value instead\n",
      "\n",
      "See the caveats in the documentation: https://pandas.pydata.org/pandas-docs/stable/user_guide/indexing.html#returning-a-view-versus-a-copy\n",
      "  customer_data['FinalRFM'] = np.select(conditions, mappings, default=\"Others\")\n"
     ]
    },
    {
     "data": {
      "text/plain": [
       "05. Baixo Engajamento & Baixo Valor    1693\n",
       "04. Antigo e Alta Frequencia           1686\n",
       "01. Alto Engajamento e Alto Valor       623\n",
       "03. Recente e Baixa Frequencia          235\n",
       "02. Alto Engajamento e Baixo Valor      198\n",
       "Name: FinalRFM, dtype: int64"
      ]
     },
     "execution_count": 103,
     "metadata": {},
     "output_type": "execute_result"
    }
   ],
   "source": [
    "conditions = [\n",
    "    (customer_data[\"last_order_within_l80d\"]==True)&(customer_data[\"more_than_four_orders\"]==True)&(customer_data[\"value_higher_than_14k\"]==True),\n",
    "    (customer_data[\"last_order_within_l80d\"]==True)&(customer_data[\"more_than_four_orders\"]==True)&(customer_data[\"value_higher_than_14k\"]==False),\n",
    "    (customer_data[\"last_order_within_l80d\"]==True)&(customer_data[\"more_than_four_orders\"]==False),\n",
    "    (customer_data[\"last_order_within_l80d\"]==False)&(customer_data[\"more_than_four_orders\"]==True),\n",
    "    (customer_data[\"last_order_within_l80d\"]==False)&(customer_data[\"more_than_four_orders\"]==False)\n",
    "]\n",
    "\n",
    "mappings = [\"01. Alto Engajamento e Alto Valor\", \n",
    "            \"02. Alto Engajamento e Baixo Valor\", \n",
    "            \"03. Recente e Baixa Frequencia\", \n",
    "            \"04. Antigo e Alta Frequencia\", \n",
    "            \"05. Baixo Engajamento & Baixo Valor\"]\n",
    "customer_data['FinalRFM'] = np.select(conditions, mappings, default=\"Others\")\n",
    "customer_data['FinalRFM'].value_counts()"
   ]
  },
  {
   "cell_type": "code",
   "execution_count": 104,
   "id": "873c21a8",
   "metadata": {},
   "outputs": [
    {
     "data": {
      "text/html": [
       "<div>\n",
       "<style scoped>\n",
       "    .dataframe tbody tr th:only-of-type {\n",
       "        vertical-align: middle;\n",
       "    }\n",
       "\n",
       "    .dataframe tbody tr th {\n",
       "        vertical-align: top;\n",
       "    }\n",
       "\n",
       "    .dataframe thead tr th {\n",
       "        text-align: left;\n",
       "    }\n",
       "\n",
       "    .dataframe thead tr:last-of-type th {\n",
       "        text-align: right;\n",
       "    }\n",
       "</style>\n",
       "<table border=\"1\" class=\"dataframe\">\n",
       "  <thead>\n",
       "    <tr>\n",
       "      <th></th>\n",
       "      <th colspan=\"3\" halign=\"left\">Frequency</th>\n",
       "      <th colspan=\"4\" halign=\"left\">Lifetime</th>\n",
       "      <th colspan=\"3\" halign=\"left\">MonetaryValue</th>\n",
       "      <th colspan=\"3\" halign=\"left\">Recency</th>\n",
       "    </tr>\n",
       "    <tr>\n",
       "      <th></th>\n",
       "      <th>amax</th>\n",
       "      <th>amin</th>\n",
       "      <th>median</th>\n",
       "      <th>amax</th>\n",
       "      <th>amin</th>\n",
       "      <th>count</th>\n",
       "      <th>median</th>\n",
       "      <th>amax</th>\n",
       "      <th>amin</th>\n",
       "      <th>median</th>\n",
       "      <th>amax</th>\n",
       "      <th>amin</th>\n",
       "      <th>median</th>\n",
       "    </tr>\n",
       "    <tr>\n",
       "      <th>FinalRFM</th>\n",
       "      <th></th>\n",
       "      <th></th>\n",
       "      <th></th>\n",
       "      <th></th>\n",
       "      <th></th>\n",
       "      <th></th>\n",
       "      <th></th>\n",
       "      <th></th>\n",
       "      <th></th>\n",
       "      <th></th>\n",
       "      <th></th>\n",
       "      <th></th>\n",
       "      <th></th>\n",
       "    </tr>\n",
       "  </thead>\n",
       "  <tbody>\n",
       "    <tr>\n",
       "      <th>01. Alto Engajamento e Alto Valor</th>\n",
       "      <td>251</td>\n",
       "      <td>4</td>\n",
       "      <td>50</td>\n",
       "      <td>3596</td>\n",
       "      <td>51</td>\n",
       "      <td>623</td>\n",
       "      <td>2951</td>\n",
       "      <td>1529750.9</td>\n",
       "      <td>14006.5</td>\n",
       "      <td>68943.30</td>\n",
       "      <td>179</td>\n",
       "      <td>1</td>\n",
       "      <td>31</td>\n",
       "    </tr>\n",
       "    <tr>\n",
       "      <th>02. Alto Engajamento e Baixo Valor</th>\n",
       "      <td>96</td>\n",
       "      <td>4</td>\n",
       "      <td>8</td>\n",
       "      <td>3589</td>\n",
       "      <td>65</td>\n",
       "      <td>198</td>\n",
       "      <td>905</td>\n",
       "      <td>13959.3</td>\n",
       "      <td>724.7</td>\n",
       "      <td>6136.85</td>\n",
       "      <td>177</td>\n",
       "      <td>1</td>\n",
       "      <td>51</td>\n",
       "    </tr>\n",
       "    <tr>\n",
       "      <th>03. Recente e Baixa Frequencia</th>\n",
       "      <td>3</td>\n",
       "      <td>1</td>\n",
       "      <td>2</td>\n",
       "      <td>3523</td>\n",
       "      <td>1</td>\n",
       "      <td>235</td>\n",
       "      <td>121</td>\n",
       "      <td>82500.0</td>\n",
       "      <td>124.0</td>\n",
       "      <td>1560.00</td>\n",
       "      <td>179</td>\n",
       "      <td>1</td>\n",
       "      <td>64</td>\n",
       "    </tr>\n",
       "    <tr>\n",
       "      <th>04. Antigo e Alta Frequencia</th>\n",
       "      <td>187</td>\n",
       "      <td>4</td>\n",
       "      <td>10</td>\n",
       "      <td>3596</td>\n",
       "      <td>289</td>\n",
       "      <td>1686</td>\n",
       "      <td>2991</td>\n",
       "      <td>1300921.1</td>\n",
       "      <td>453.0</td>\n",
       "      <td>8192.40</td>\n",
       "      <td>3516</td>\n",
       "      <td>184</td>\n",
       "      <td>1620</td>\n",
       "    </tr>\n",
       "    <tr>\n",
       "      <th>05. Baixo Engajamento &amp; Baixo Valor</th>\n",
       "      <td>3</td>\n",
       "      <td>1</td>\n",
       "      <td>1</td>\n",
       "      <td>3595</td>\n",
       "      <td>181</td>\n",
       "      <td>1693</td>\n",
       "      <td>2319</td>\n",
       "      <td>254374.0</td>\n",
       "      <td>0.0</td>\n",
       "      <td>736.00</td>\n",
       "      <td>3589</td>\n",
       "      <td>181</td>\n",
       "      <td>2179</td>\n",
       "    </tr>\n",
       "  </tbody>\n",
       "</table>\n",
       "</div>"
      ],
      "text/plain": [
       "                                    Frequency             Lifetime             \\\n",
       "                                         amax amin median     amax amin count   \n",
       "FinalRFM                                                                        \n",
       "01. Alto Engajamento e Alto Valor         251    4     50     3596   51   623   \n",
       "02. Alto Engajamento e Baixo Valor         96    4      8     3589   65   198   \n",
       "03. Recente e Baixa Frequencia              3    1      2     3523    1   235   \n",
       "04. Antigo e Alta Frequencia              187    4     10     3596  289  1686   \n",
       "05. Baixo Engajamento & Baixo Valor         3    1      1     3595  181  1693   \n",
       "\n",
       "                                           MonetaryValue                     \\\n",
       "                                    median          amax     amin    median   \n",
       "FinalRFM                                                                      \n",
       "01. Alto Engajamento e Alto Valor     2951     1529750.9  14006.5  68943.30   \n",
       "02. Alto Engajamento e Baixo Valor     905       13959.3    724.7   6136.85   \n",
       "03. Recente e Baixa Frequencia         121       82500.0    124.0   1560.00   \n",
       "04. Antigo e Alta Frequencia          2991     1300921.1    453.0   8192.40   \n",
       "05. Baixo Engajamento & Baixo Valor   2319      254374.0      0.0    736.00   \n",
       "\n",
       "                                    Recency              \n",
       "                                       amax amin median  \n",
       "FinalRFM                                                 \n",
       "01. Alto Engajamento e Alto Valor       179    1     31  \n",
       "02. Alto Engajamento e Baixo Valor      177    1     51  \n",
       "03. Recente e Baixa Frequencia          179    1     64  \n",
       "04. Antigo e Alta Frequencia           3516  184   1620  \n",
       "05. Baixo Engajamento & Baixo Valor    3589  181   2179  "
      ]
     },
     "execution_count": 104,
     "metadata": {},
     "output_type": "execute_result"
    }
   ],
   "source": [
    "customer_data.pivot_table(index=[\"FinalRFM\"], \n",
    "                          values=[\"Recency\", \"Frequency\", \"MonetaryValue\", \"Lifetime\"], \n",
    "                          aggfunc={\"Recency\": [np.min, np.median, np.max], \n",
    "                                   \"Frequency\": [np.min, np.median, np.max], \n",
    "                                   \"MonetaryValue\": [np.min, np.median, np.max], \n",
    "                                   \"Lifetime\": [np.min, np.median, np.max, \"count\"]})"
   ]
  },
  {
   "cell_type": "code",
   "execution_count": 105,
   "id": "034363ea",
   "metadata": {},
   "outputs": [],
   "source": [
    "customer_data.to_csv(\"RFM.csv\")"
   ]
  }
 ],
 "metadata": {
  "kernelspec": {
   "display_name": "Python 3",
   "language": "python",
   "name": "python3"
  },
  "language_info": {
   "codemirror_mode": {
    "name": "ipython",
    "version": 3
   },
   "file_extension": ".py",
   "mimetype": "text/x-python",
   "name": "python",
   "nbconvert_exporter": "python",
   "pygments_lexer": "ipython3",
   "version": "3.8.8"
  }
 },
 "nbformat": 4,
 "nbformat_minor": 5
}
